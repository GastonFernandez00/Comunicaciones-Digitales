{
 "cells": [
  {
   "cell_type": "markdown",
   "metadata": {},
   "source": [
    "Suponga que se desea enviar valores de la hipotesis H a través de un canal  modelado como ruido discreto aditivo N, de modo que la señal discreta Y observada en el receptor tiene la forma Y = H + N. Suponga que H y N son variables aleatorias discretas independientes que toman valores cero y uno de forma equiprobable. Bajo esta situación se puede decir que va a ser probable observar tres valores de Y, esto es y =0, 1 o 2. \n",
    "\n",
    "Encontrar las probabilidades condicionales  $P_{Y/H}(y/0)$  y  $P_{Y/H}(y/1)  .$\n",
    "Determinar cualitativamente el nivel de decisión óptimo a fijar en el receptor según el criterio ML.\n",
    "\n",
    "Realizar una simulación Monte Carlo del problema para encontrar el valor de la probabilidad de error Pe para un nivel de decisión igual a 0, 1 y 2.\n",
    "\n",
    "Ayuda:  Los valores de Y van a estar dados por las siguientes posibilidades:\n",
    "\n",
    "H +\tN =\tY\n",
    "\n",
    "0 +\t0 =\t 0\n",
    "\n",
    "0 +\t1 =\t 1\n",
    "\n",
    "1 +\t0 =\t 1\n",
    "\n",
    "1 +\t1 =\t 2\n",
    "\n",
    "RESPUESTA: Pe = 0.25 para el caso en que el nivel de decisión sea 1."
   ]
  },
  {
   "cell_type": "code",
   "execution_count": null,
   "metadata": {},
   "outputs": [],
   "source": []
  }
 ],
 "metadata": {
  "language_info": {
   "name": "python"
  }
 },
 "nbformat": 4,
 "nbformat_minor": 2
}
