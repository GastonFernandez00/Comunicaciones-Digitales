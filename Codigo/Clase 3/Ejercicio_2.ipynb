{
 "cells": [
  {
   "cell_type": "markdown",
   "metadata": {},
   "source": [
    "Suponga que se desea enviar valores de la hipotesis H a través de un canal  modelado como ruido discreto aditivo N, de modo que la señal discreta Y observada en el receptor tiene la forma Y = H + N. Suponga que H y N son variables aleatorias discretas independientes que toman valores cero y uno de forma equiprobable. Bajo esta situación se puede decir que va a ser probable observar tres valores de Y, esto es y =0, 1 o 2. \n",
    "\n",
    "Encontrar las probabilidades condicionales  $P_{Y/H}(y/0)$  y  $P_{Y/H}(y/1)  .$\n",
    "Determinar cualitativamente el nivel de decisión óptimo a fijar en el receptor según el criterio ML.\n",
    "\n",
    "Realizar una simulación Monte Carlo del problema para encontrar el valor de la probabilidad de error Pe para un nivel de decisión igual a 0, 1 y 2.\n",
    "\n",
    "Ayuda:  Los valores de Y van a estar dados por las siguientes posibilidades:\n",
    "\n",
    "+ H +\tN =\tY\n",
    "+ 0 +\t0 =\t 0\n",
    "+ 0 +\t1 =\t 1\n",
    "+ 1 +\t0 =\t 1\n",
    "+ 1 +\t1 =\t 2\n",
    "\n",
    "RESPUESTA: Pe = 0.25 para el caso en que el nivel de decisión sea 1."
   ]
  },
  {
   "cell_type": "markdown",
   "metadata": {},
   "source": [
    "Si H = {0,1} y N = {0,1}\n",
    "\n",
    "+ $P_{Y/H}(0/0) = 0.5$\n",
    "+ $P_{Y/H}(1/0) = 0.5$\n",
    "+ $P_{Y/H}(2/0) = 0$\n",
    "+ $P_{Y/H}(0/1) = 0$\n",
    "+ $P_{Y/H}(1/1) = 0.5$\n",
    "+ $P_{Y/H}(2/1) = 0.5$\n",
    "\n",
    "Superponiendo las probabilidades, podría verse que un buen nivel de decisión sería '1', ya que está en el punto intermedio de las hipotesis\n",
    "\n"
   ]
  },
  {
   "cell_type": "code",
   "execution_count": 30,
   "metadata": {},
   "outputs": [
    {
     "name": "stdout",
     "output_type": "stream",
     "text": [
      "La Probabilidad de Error (Pe) es: 0.249\n"
     ]
    },
    {
     "data": {
      "image/png": "[encoded data removed]",
      "text/plain": [
       "<Figure size 640x480 with 1 Axes>"
      ]
     },
     "metadata": {},
     "output_type": "display_data"
    }
   ],
   "source": [
    "import numpy as np\n",
    "import matplotlib.pyplot as plt\n",
    "\n",
    "intentos = 1000\n",
    "\n",
    "# Se crean las colecciones con valores aleatorios entre 0 y 1\n",
    "H = np.random.randint(0,2,intentos)\n",
    "N = np.random.randint(0,2,intentos)\n",
    "\n",
    "# Ya que el ruido se suma al canal con valores discretos 0 ó 1, el observable\n",
    "#y está entre 0 y 2\n",
    "Y = [N[n]+H[n] for n in range(intentos)]\n",
    "\n",
    "#Grafica\n",
    "plt.hist(Y,density=True,bins = 10)\n",
    "plt.grid()\n",
    "plt.title(\"Observaciones\")\n",
    "plt.xlabel(\"Observable 'y'\")\n",
    "plt.ylabel(\"Probabilidad\")\n",
    "\n",
    "# Se decodifican los datos de cada observación basados en lo que sabemos que puede\n",
    "#enviar la fuente (0,1)\n",
    "Resultados = []\n",
    "for n in range(intentos):\n",
    "    if(Y[n] == 0):\n",
    "        Resultados.append(0);\n",
    "    elif(Y[n] == 2):\n",
    "        Resultados.append(1);\n",
    "    else:\n",
    "        x = np.random.randint(0,2);\n",
    "        if(x == 0):\n",
    "            Resultados.append(0);\n",
    "        else:\n",
    "            Resultados.append(1);\n",
    "\n",
    "correctos = 0\n",
    "# Se revisan todos los datos enviado por la fuente, y se contrastan con las decisiones tomadas\n",
    "#para saber cuál es la cantidad de aciertos\n",
    "for n in range(intentos):\n",
    "    if(H[n] == Resultados[n]):\n",
    "        correctos += 1\n",
    "\n",
    "# Se calcula la propabilidad de aciertos, y luego la probabilidad de error\n",
    "Pr = correctos/intentos;\n",
    "Pe = 1-Pr;\n",
    "print(\"La Probabilidad de Error (Pe) es:\",Pe)\n",
    "plt.show()\n",
    "    \n",
    "\n"
   ]
  }
 ],
 "metadata": {
  "kernelspec": {
   "display_name": "Python 3",
   "language": "python",
   "name": "python3"
  },
  "language_info": {
   "codemirror_mode": {
    "name": "ipython",
    "version": 3
   },
   "file_extension": ".py",
   "mimetype": "text/x-python",
   "name": "python",
   "nbconvert_exporter": "python",
   "pygments_lexer": "ipython3",
   "version": "3.12.0"
  }
 },
 "nbformat": 4,
 "nbformat_minor": 2
}
