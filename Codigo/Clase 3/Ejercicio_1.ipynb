{
 "cells": [
  {
   "cell_type": "markdown",
   "metadata": {},
   "source": [
    "Adjunte una Jupyter Notebook en donde quede expresado el desarrollo matemático que permite obtener el valor del nivel de decisión para el caso del ejemplo planteado en la clase, esto es para una regla de decisión ML y valores de intensidad de \\lambda_0= 1   y \\lambda_1=3.\n",
    "\n",
    "Para armar las expresiones matemáticas que necesite incorporar en la Jupyter Notebook puede recurrir a herramientas tales como:\n",
    "\n",
    "Equation Editor: https://editor.codecogs.com/\n",
    "\n",
    "O consultar páginas tales como:\n",
    "\n",
    "Manual de Latex: https://manualdelatex.com/simbolos#chapter2\n",
    "\n",
    "RESPUESTA: 1.8"
   ]
  }
 ],
 "metadata": {
  "language_info": {
   "name": "python"
  }
 },
 "nbformat": 4,
 "nbformat_minor": 2
}
