{
 "cells": [
  {
   "cell_type": "markdown",
   "metadata": {},
   "source": [
    "Adjunte una Jupyter Notebook en donde:\n",
    "1. quede expresado el desarrollo matemático que permite obtener el valor del nivel de decisión para el caso del ejemplo planteado en la clase, pero esta vez para una regla de decisión MAP con valores de intensidad de   $\\lambda_0= 1$  y $\\lambda_1=3$ y con probabilidades de hipótesis  $P_H(0)=0.7$  y  $P_H(1)=0.3 .$\n",
    "2. Genere una simulación Monte Carlo del problema para obtener la probabilidad de error cuando se utiliza el nivel de decisión obtenido en el punto anterior.\n",
    "3. Cambie el nivel de decisión por el valor obtenido para el caso ML (modifique solo ese valor) y compare el resultado con el valor de probabilidad de error obtenido en el punto anterior. Saque conclusiones de la observación.\n",
    "  \n",
    "RESPUESTA: nivel de decisión = 2.5917 ; Probabilidad de error aprox. 0.183\n",
    "\n",
    "Ayuda: El siguiente código genera hipótesis binarias con distintas probabilidades:\n",
    "z = np.random.uniform(size=nb_samples)\n",
    "ref = 0.7\n",
    "hypothesis = [1 if z[i]>=ref else 0 for i in range(len(z))]\n",
    "\n",
    "(Para una mayor comprensión de este código, analícelo con histogramas antes de utilizarlo) "
   ]
  },
  {
   "cell_type": "code",
   "execution_count": null,
   "metadata": {},
   "outputs": [],
   "source": []
  }
 ],
 "metadata": {
  "language_info": {
   "name": "python"
  }
 },
 "nbformat": 4,
 "nbformat_minor": 2
}
