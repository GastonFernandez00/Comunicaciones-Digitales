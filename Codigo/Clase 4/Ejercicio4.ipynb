{
 "cells": [
  {
   "cell_type": "markdown",
   "metadata": {},
   "source": [
    "Considere una variable aleatoria  X  $\\in \\{-1, +3\\}$  con probabilidades a priori  $P_X(-1) = 0.4$  y  $P_X (+3) = 0.6$  . Dada una observación  y  de la variable aleatoria  Y = X+N , donde  N  es una variable aleatoria gaussiana de media   $\\mu =0$   con varianza   $\\sigma^2 = 0.4$  , independiente de  X , \n",
    "\n",
    "encuentre el nivel de decisión para un detector MAP.\n",
    "Calcule analíticamente la probabilidad de error   $P_e .$"
   ]
  },
  {
   "cell_type": "code",
   "execution_count": null,
   "metadata": {},
   "outputs": [],
   "source": []
  }
 ],
 "metadata": {
  "language_info": {
   "name": "python"
  }
 },
 "nbformat": 4,
 "nbformat_minor": 2
}
