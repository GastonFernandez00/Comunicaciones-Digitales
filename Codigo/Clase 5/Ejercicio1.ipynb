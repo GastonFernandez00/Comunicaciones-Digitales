{
 "cells": [
  {
   "cell_type": "markdown",
   "metadata": {},
   "source": [
    "Considere un sistema de comunicaciones en donde el transmisor transmite dos hipótesis H igualmente probables. Bajo la hipótesis  H=0 , la señal observada  Y  por el receptor a la salida del canal es igual a  -1+Z   donde  Z  es una variable aleatoria Gaussiana  N(0,2) .\n",
    "\n",
    "Bajo la hipótesis  H=1 ,  Y  viene dado por 2+Z  .\n",
    "\n",
    "1. Exprese matemáticamente las funciones de densidad de probabilidad condicional  $f_{Y|H}(y|0)$  y  $f_{Y|H}(y|1) .$\n",
    "2. Realice un programa en una Jupyter Notebook que dibuje la funciones de densidad de probabilidad  $f_{Y|H}(y|0)$  y  $f_{Y|H}(y|1) .$\n",
    "3. Determine cualitativamente el nivel de decisión óptimo.  Bajo que regla la decisión es óptima?\n",
    "4. Determine cuantitativamente el nivel de decisión óptimo.\n",
    "5. Exprese la probabilidad de error P_e en términos de la función Q.\n",
    "6. Utilice el siguiente código en Python para calcular el valor de Q con los argumentos obtenidos en el punto anterior:"
   ]
  }
 ],
 "metadata": {
  "language_info": {
   "name": "python"
  }
 },
 "nbformat": 4,
 "nbformat_minor": 2
}
